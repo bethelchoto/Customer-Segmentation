{
  "nbformat": 4,
  "nbformat_minor": 0,
  "metadata": {
    "colab": {
      "provenance": [],
      "collapsed_sections": [],
      "authorship_tag": "ABX9TyPCY7H+B26UJNz6sP42QiIO",
      "include_colab_link": true
    },
    "kernelspec": {
      "name": "python3",
      "display_name": "Python 3"
    },
    "language_info": {
      "name": "python"
    }
  },
  "cells": [
    {
      "cell_type": "markdown",
      "metadata": {
        "id": "view-in-github",
        "colab_type": "text"
      },
      "source": [
        "<a href=\"https://colab.research.google.com/github/bethelchoto/Customer-Segmentation/blob/main/Customer_Segmentation.ipynb\" target=\"_parent\"><img src=\"https://colab.research.google.com/assets/colab-badge.svg\" alt=\"Open In Colab\"/></a>"
      ]
    },
    {
      "cell_type": "markdown",
      "source": [
        "# IMPORT LIBRARIES\n"
      ],
      "metadata": {
        "id": "fVC329-Vg19p"
      }
    },
    {
      "cell_type": "markdown",
      "source": [
        "# IMPORT DATASET"
      ],
      "metadata": {
        "id": "Afm6WuNNmF1E"
      }
    },
    {
      "cell_type": "code",
      "execution_count": null,
      "metadata": {
        "id": "QbMlAIStgdC8"
      },
      "outputs": [],
      "source": [
        "import pandas as pd\n",
        "import matplotlib.pyplot as plt\n",
        "import numpy as np\n",
        "import seaborn as sns\n",
        "import os\n"
      ]
    },
    {
      "cell_type": "code",
      "source": [
        "from google.colab import drive\n",
        "drive.mount('/content/drive')\n",
        "\n",
        "# importing both train and testing dataSets\n",
        "data_train = os.path.abspath(\"/content/drive/My Drive/Customer_Segmentation/Train.csv\")\n",
        "data_test = os.path.abspath(\"/content/drive/My Drive/Customer_Segmentation/Test.csv\")"
      ],
      "metadata": {
        "id": "UEIJzT93R9jJ",
        "colab": {
          "base_uri": "https://localhost:8080/"
        },
        "outputId": "87cddc98-17a4-4718-c392-432f6eff4342"
      },
      "execution_count": null,
      "outputs": [
        {
          "output_type": "stream",
          "name": "stdout",
          "text": [
            "Drive already mounted at /content/drive; to attempt to forcibly remount, call drive.mount(\"/content/drive\", force_remount=True).\n"
          ]
        }
      ]
    },
    {
      "cell_type": "code",
      "source": [
        "#Training Data loading \n",
        "train_dr = pd.read_csv(data_train)\n",
        "\n",
        "#Testing Data loading\n",
        "test_dr = pd.read_csv(data_test)"
      ],
      "metadata": {
        "id": "-Qrk02QqCkL7"
      },
      "execution_count": null,
      "outputs": []
    },
    {
      "cell_type": "markdown",
      "source": [
        "#Dropping Unnecessary Columns "
      ],
      "metadata": {
        "id": "kH9JL_tMBn5O"
      }
    },
    {
      "cell_type": "code",
      "source": [
        "#Droping Graduated Column\n",
        "train_dr.drop(['Graduated'], axis =1, inplace=True)\n",
        "test_dr.drop(['Graduated'], axis=1, inplace = True)"
      ],
      "metadata": {
        "id": "DuBTtx9iaZb2"
      },
      "execution_count": null,
      "outputs": []
    },
    {
      "cell_type": "code",
      "source": [
        "#Testing Information\n",
        "test_dr.info()"
      ],
      "metadata": {
        "colab": {
          "base_uri": "https://localhost:8080/"
        },
        "id": "LcKLQg4bKIj-",
        "outputId": "40eb7a2a-a25e-4f43-83c9-08b26c669063"
      },
      "execution_count": null,
      "outputs": [
        {
          "output_type": "stream",
          "name": "stdout",
          "text": [
            "<class 'pandas.core.frame.DataFrame'>\n",
            "RangeIndex: 2627 entries, 0 to 2626\n",
            "Data columns (total 10 columns):\n",
            " #   Column           Non-Null Count  Dtype  \n",
            "---  ------           --------------  -----  \n",
            " 0   ID               2627 non-null   int64  \n",
            " 1   Gender           2627 non-null   object \n",
            " 2   Ever_Married     2577 non-null   object \n",
            " 3   Age              2627 non-null   int64  \n",
            " 4   Profession       2589 non-null   object \n",
            " 5   Work_Experience  2358 non-null   float64\n",
            " 6   Spending_Score   2627 non-null   object \n",
            " 7   Family_Size      2514 non-null   float64\n",
            " 8   Var_1            2595 non-null   object \n",
            " 9   Segmentation     2627 non-null   object \n",
            "dtypes: float64(2), int64(2), object(6)\n",
            "memory usage: 205.4+ KB\n"
          ]
        }
      ]
    },
    {
      "cell_type": "code",
      "source": [
        "#Training data Information\n",
        "train_dr.info()"
      ],
      "metadata": {
        "id": "G2NjpB03CYLI",
        "colab": {
          "base_uri": "https://localhost:8080/"
        },
        "outputId": "16c209db-b065-45b0-84d8-50fd7603a9d4"
      },
      "execution_count": null,
      "outputs": [
        {
          "output_type": "stream",
          "name": "stdout",
          "text": [
            "<class 'pandas.core.frame.DataFrame'>\n",
            "RangeIndex: 8068 entries, 0 to 8067\n",
            "Data columns (total 10 columns):\n",
            " #   Column           Non-Null Count  Dtype  \n",
            "---  ------           --------------  -----  \n",
            " 0   ID               8068 non-null   int64  \n",
            " 1   Gender           8068 non-null   object \n",
            " 2   Ever_Married     7928 non-null   object \n",
            " 3   Age              8068 non-null   int64  \n",
            " 4   Profession       7944 non-null   object \n",
            " 5   Work_Experience  7239 non-null   float64\n",
            " 6   Spending_Score   8068 non-null   object \n",
            " 7   Family_Size      7733 non-null   float64\n",
            " 8   Var_1            7992 non-null   object \n",
            " 9   Segmentation     8068 non-null   object \n",
            "dtypes: float64(2), int64(2), object(6)\n",
            "memory usage: 630.4+ KB\n"
          ]
        }
      ]
    },
    {
      "cell_type": "code",
      "source": [
        "#Checking for missing values\n",
        "test_dr.isnull().sum()\n",
        "# This will drop all rows in which there is any missing values on train data\n",
        "train_dr=train_dr.dropna()\n",
        "train_dr.isnull().sum()\n",
        "# This will drop all rows in which there is any missing values on test data \n",
        "test_dr=test_dr.dropna()\n",
        "test_dr.isnull().sum()"
      ],
      "metadata": {
        "colab": {
          "base_uri": "https://localhost:8080/"
        },
        "id": "TiAsMBzTLyIA",
        "outputId": "8bd097ee-7328-4175-944e-e51c7762b212"
      },
      "execution_count": null,
      "outputs": [
        {
          "output_type": "execute_result",
          "data": {
            "text/plain": [
              "ID                 0\n",
              "Gender             0\n",
              "Ever_Married       0\n",
              "Age                0\n",
              "Profession         0\n",
              "Work_Experience    0\n",
              "Spending_Score     0\n",
              "Family_Size        0\n",
              "Var_1              0\n",
              "Segmentation       0\n",
              "dtype: int64"
            ]
          },
          "metadata": {},
          "execution_count": 84
        }
      ]
    },
    {
      "cell_type": "markdown",
      "source": [
        "#Visualizing DataSet"
      ],
      "metadata": {
        "id": "Zzv8Z9GQY0B3"
      }
    },
    {
      "cell_type": "code",
      "source": [
        "# Data Classifying \n",
        "# Categorical Values\n",
        "cat_data =  ['Gender','Ever_Married','Profession' ,'Spending_Score' , 'Var_1']\n",
        "\n",
        "#Numerical Values\n",
        "nume_vl  = ['Age','Work_Experience','Family_Size']"
      ],
      "metadata": {
        "id": "P9v4dXeBTNcc"
      },
      "execution_count": null,
      "outputs": []
    },
    {
      "cell_type": "code",
      "source": [
        "sns.set_theme()\n",
        "train_dr['Segmentation'].value_counts()\n",
        "plt.figure(figsize= (12,8))\n",
        "sns.countplot(train_dr['Segmentation'])\n",
        "plt.show()"
      ],
      "metadata": {
        "id": "XgSWReVBfk-C",
        "colab": {
          "base_uri": "https://localhost:8080/",
          "height": 557
        },
        "outputId": "00285e81-a622-4bc0-ef19-2b9b5b20bcde"
      },
      "execution_count": null,
      "outputs": [
        {
          "output_type": "stream",
          "name": "stderr",
          "text": [
            "/usr/local/lib/python3.7/dist-packages/seaborn/_decorators.py:43: FutureWarning: Pass the following variable as a keyword arg: x. From version 0.12, the only valid positional argument will be `data`, and passing other arguments without an explicit keyword will result in an error or misinterpretation.\n",
            "  FutureWarning\n"
          ]
        },
        {
          "output_type": "display_data",
          "data": {
            "text/plain": [
              "<Figure size 864x576 with 1 Axes>"
            ],
            "image/png": "[encoded data removed]"
          },
          "metadata": {}
        }
      ]
    },
    {
      "cell_type": "code",
      "source": [
        "#Scatter Plot of Work Experience vs Age \n",
        "sns.scatterplot(x = 'Work_Experience', y = 'Age', data = train_dr, s = 20)"
      ],
      "metadata": {
        "id": "urgfvYplDIK4",
        "colab": {
          "base_uri": "https://localhost:8080/",
          "height": 302
        },
        "outputId": "3c54283c-8418-44fe-8290-7a34f1db642c"
      },
      "execution_count": null,
      "outputs": [
        {
          "output_type": "execute_result",
          "data": {
            "text/plain": [
              "<matplotlib.axes._subplots.AxesSubplot at 0x7f10fa83fd50>"
            ]
          },
          "metadata": {},
          "execution_count": 104
        },
        {
          "output_type": "display_data",
          "data": {
            "text/plain": [
              "<Figure size 432x288 with 1 Axes>"
            ],
            "image/png": "[encoded data removed]"
          },
          "metadata": {}
        }
      ]
    },
    {
      "cell_type": "code",
      "source": [
        "dat = sns.scatterplot(data = train_dr, x = 'Family_Size', y = 'Age', s = 20)"
      ],
      "metadata": {
        "id": "q8APLNPuJdEk",
        "colab": {
          "base_uri": "https://localhost:8080/",
          "height": 285
        },
        "outputId": "c37cfbee-4378-408c-fde7-70b970a05a8c"
      },
      "execution_count": null,
      "outputs": [
        {
          "output_type": "display_data",
          "data": {
            "text/plain": [
              "<Figure size 432x288 with 1 Axes>"
            ],
            "image/png": "[encoded data removed]"
          },
          "metadata": {}
        }
      ]
    },
    {
      "cell_type": "code",
      "source": [
        "train_dr[nume_vl].hist(figsize = (30, 10))"
      ],
      "metadata": {
        "colab": {
          "base_uri": "https://localhost:8080/",
          "height": 531
        },
        "id": "VffAm_YwJ23l",
        "outputId": "25b688e1-0848-4877-fc0e-00ed49e4c036"
      },
      "execution_count": null,
      "outputs": [
        {
          "output_type": "execute_result",
          "data": {
            "text/plain": [
              "array([[<matplotlib.axes._subplots.AxesSubplot object at 0x7f11140bc950>,\n",
              "        <matplotlib.axes._subplots.AxesSubplot object at 0x7f10fa98fb10>],\n",
              "       [<matplotlib.axes._subplots.AxesSubplot object at 0x7f10fa93eed0>,\n",
              "        <matplotlib.axes._subplots.AxesSubplot object at 0x7f10fa8ff410>]],\n",
              "      dtype=object)"
            ]
          },
          "metadata": {},
          "execution_count": 89
        },
        {
          "output_type": "display_data",
          "data": {
            "text/plain": [
              "<Figure size 2160x720 with 4 Axes>"
            ],
            "image/png": "[encoded data removed]"
          },
          "metadata": {}
        }
      ]
    },
    {
      "cell_type": "code",
      "source": [
        "# Train data\n",
        "dummies = pd.get_dummies(data = train_dr[cat_data])\n",
        "train_dr = pd.concat([train_dr,dummies],axis = 1)\n",
        "train_dr.drop(['Gender','Ever_Married','Profession','Spending_Score','Var_1'] ,axis = 1,inplace = True)\n",
        "\n",
        "# Test data\n",
        "dummies_test = pd.get_dummies(data = test_dr[['Gender','Ever_Married','Profession','Spending_Score','Var_1']])\n",
        "test_dr = pd.concat([test_dr,dummies_test],axis = 1)\n",
        "test_dr.drop(['Gender', 'Ever_Married','Profession', 'Spending_Score','Var_1'],axis = 1,inplace = True)"
      ],
      "metadata": {
        "id": "5ueZOk2tPaeM"
      },
      "execution_count": null,
      "outputs": []
    },
    {
      "cell_type": "code",
      "source": [
        "from sklearn.preprocessing import MinMaxScaler\n",
        "scaler = MinMaxScaler()\n",
        "def scaleColumns(df, cols_to_scale):\n",
        "    for col in cols_to_scale:\n",
        "        df[col] = scaler.fit_transform(pd.DataFrame(df[col]))\n",
        "    return df\n",
        "train_dr = scaleColumns(train_dr,nume_vl)\n",
        "\n",
        "test_dr = scaleColumns(test_dr,nume_vl)\n",
        "train_dr.head()"
      ],
      "metadata": {
        "colab": {
          "base_uri": "https://localhost:8080/",
          "height": 300
        },
        "id": "2DcQWp27QYRZ",
        "outputId": "2e5b48eb-dadd-4158-cef3-72f0cf629970"
      },
      "execution_count": null,
      "outputs": [
        {
          "output_type": "execute_result",
          "data": {
            "text/plain": [
              "       ID       Age  Work_Experience  Family_Size Segmentation  Gender_Female  \\\n",
              "0  462809  0.056338         0.071429        0.375            D              0   \n",
              "2  466315  0.690141         0.071429        0.000            B              1   \n",
              "3  461735  0.690141         0.000000        0.125            B              0   \n",
              "5  461319  0.535211         0.000000        0.125            C              0   \n",
              "6  460156  0.197183         0.071429        0.250            C              0   \n",
              "\n",
              "   Gender_Male  Ever_Married_No  Ever_Married_Yes  Profession_Artist  ...  \\\n",
              "0            1                1                 0                  0  ...   \n",
              "2            0                0                 1                  0  ...   \n",
              "3            1                0                 1                  0  ...   \n",
              "5            1                0                 1                  1  ...   \n",
              "6            1                1                 0                  0  ...   \n",
              "\n",
              "   Spending_Score_Average  Spending_Score_High  Spending_Score_Low  \\\n",
              "0                       0                    0                   1   \n",
              "2                       0                    0                   1   \n",
              "3                       0                    1                   0   \n",
              "5                       1                    0                   0   \n",
              "6                       0                    0                   1   \n",
              "\n",
              "   Var_1_Cat_1  Var_1_Cat_2  Var_1_Cat_3  Var_1_Cat_4  Var_1_Cat_5  \\\n",
              "0            0            0            0            1            0   \n",
              "2            0            0            0            0            0   \n",
              "3            0            0            0            0            0   \n",
              "5            0            0            0            0            0   \n",
              "6            0            0            0            0            0   \n",
              "\n",
              "   Var_1_Cat_6  Var_1_Cat_7  \n",
              "0            0            0  \n",
              "2            1            0  \n",
              "3            1            0  \n",
              "5            1            0  \n",
              "6            1            0  \n",
              "\n",
              "[5 rows x 28 columns]"
            ],
            "text/html": [
              "\n",
              "  <div id=\"df-ac5fcc0e-edea-4112-89af-8abb033ec06a\">\n",
              "    <div class=\"colab-df-container\">\n",
              "      <div>\n",
              "<style scoped>\n",
              "    .dataframe tbody tr th:only-of-type {\n",
              "        vertical-align: middle;\n",
              "    }\n",
              "\n",
              "    .dataframe tbody tr th {\n",
              "        vertical-align: top;\n",
              "    }\n",
              "\n",
              "    .dataframe thead th {\n",
              "        text-align: right;\n",
              "    }\n",
              "</style>\n",
              "<table border=\"1\" class=\"dataframe\">\n",
              "  <thead>\n",
              "    <tr style=\"text-align: right;\">\n",
              "      <th></th>\n",
              "      <th>ID</th>\n",
              "      <th>Age</th>\n",
              "      <th>Work_Experience</th>\n",
              "      <th>Family_Size</th>\n",
              "      <th>Segmentation</th>\n",
              "      <th>Gender_Female</th>\n",
              "      <th>Gender_Male</th>\n",
              "      <th>Ever_Married_No</th>\n",
              "      <th>Ever_Married_Yes</th>\n",
              "      <th>Profession_Artist</th>\n",
              "      <th>...</th>\n",
              "      <th>Spending_Score_Average</th>\n",
              "      <th>Spending_Score_High</th>\n",
              "      <th>Spending_Score_Low</th>\n",
              "      <th>Var_1_Cat_1</th>\n",
              "      <th>Var_1_Cat_2</th>\n",
              "      <th>Var_1_Cat_3</th>\n",
              "      <th>Var_1_Cat_4</th>\n",
              "      <th>Var_1_Cat_5</th>\n",
              "      <th>Var_1_Cat_6</th>\n",
              "      <th>Var_1_Cat_7</th>\n",
              "    </tr>\n",
              "  </thead>\n",
              "  <tbody>\n",
              "    <tr>\n",
              "      <th>0</th>\n",
              "      <td>462809</td>\n",
              "      <td>0.056338</td>\n",
              "      <td>0.071429</td>\n",
              "      <td>0.375</td>\n",
              "      <td>D</td>\n",
              "      <td>0</td>\n",
              "      <td>1</td>\n",
              "      <td>1</td>\n",
              "      <td>0</td>\n",
              "      <td>0</td>\n",
              "      <td>...</td>\n",
              "      <td>0</td>\n",
              "      <td>0</td>\n",
              "      <td>1</td>\n",
              "      <td>0</td>\n",
              "      <td>0</td>\n",
              "      <td>0</td>\n",
              "      <td>1</td>\n",
              "      <td>0</td>\n",
              "      <td>0</td>\n",
              "      <td>0</td>\n",
              "    </tr>\n",
              "    <tr>\n",
              "      <th>2</th>\n",
              "      <td>466315</td>\n",
              "      <td>0.690141</td>\n",
              "      <td>0.071429</td>\n",
              "      <td>0.000</td>\n",
              "      <td>B</td>\n",
              "      <td>1</td>\n",
              "      <td>0</td>\n",
              "      <td>0</td>\n",
              "      <td>1</td>\n",
              "      <td>0</td>\n",
              "      <td>...</td>\n",
              "      <td>0</td>\n",
              "      <td>0</td>\n",
              "      <td>1</td>\n",
              "      <td>0</td>\n",
              "      <td>0</td>\n",
              "      <td>0</td>\n",
              "      <td>0</td>\n",
              "      <td>0</td>\n",
              "      <td>1</td>\n",
              "      <td>0</td>\n",
              "    </tr>\n",
              "    <tr>\n",
              "      <th>3</th>\n",
              "      <td>461735</td>\n",
              "      <td>0.690141</td>\n",
              "      <td>0.000000</td>\n",
              "      <td>0.125</td>\n",
              "      <td>B</td>\n",
              "      <td>0</td>\n",
              "      <td>1</td>\n",
              "      <td>0</td>\n",
              "      <td>1</td>\n",
              "      <td>0</td>\n",
              "      <td>...</td>\n",
              "      <td>0</td>\n",
              "      <td>1</td>\n",
              "      <td>0</td>\n",
              "      <td>0</td>\n",
              "      <td>0</td>\n",
              "      <td>0</td>\n",
              "      <td>0</td>\n",
              "      <td>0</td>\n",
              "      <td>1</td>\n",
              "      <td>0</td>\n",
              "    </tr>\n",
              "    <tr>\n",
              "      <th>5</th>\n",
              "      <td>461319</td>\n",
              "      <td>0.535211</td>\n",
              "      <td>0.000000</td>\n",
              "      <td>0.125</td>\n",
              "      <td>C</td>\n",
              "      <td>0</td>\n",
              "      <td>1</td>\n",
              "      <td>0</td>\n",
              "      <td>1</td>\n",
              "      <td>1</td>\n",
              "      <td>...</td>\n",
              "      <td>1</td>\n",
              "      <td>0</td>\n",
              "      <td>0</td>\n",
              "      <td>0</td>\n",
              "      <td>0</td>\n",
              "      <td>0</td>\n",
              "      <td>0</td>\n",
              "      <td>0</td>\n",
              "      <td>1</td>\n",
              "      <td>0</td>\n",
              "    </tr>\n",
              "    <tr>\n",
              "      <th>6</th>\n",
              "      <td>460156</td>\n",
              "      <td>0.197183</td>\n",
              "      <td>0.071429</td>\n",
              "      <td>0.250</td>\n",
              "      <td>C</td>\n",
              "      <td>0</td>\n",
              "      <td>1</td>\n",
              "      <td>1</td>\n",
              "      <td>0</td>\n",
              "      <td>0</td>\n",
              "      <td>...</td>\n",
              "      <td>0</td>\n",
              "      <td>0</td>\n",
              "      <td>1</td>\n",
              "      <td>0</td>\n",
              "      <td>0</td>\n",
              "      <td>0</td>\n",
              "      <td>0</td>\n",
              "      <td>0</td>\n",
              "      <td>1</td>\n",
              "      <td>0</td>\n",
              "    </tr>\n",
              "  </tbody>\n",
              "</table>\n",
              "<p>5 rows × 28 columns</p>\n",
              "</div>\n",
              "      <button class=\"colab-df-convert\" onclick=\"convertToInteractive('df-ac5fcc0e-edea-4112-89af-8abb033ec06a')\"\n",
              "              title=\"Convert this dataframe to an interactive table.\"\n",
              "              style=\"display:none;\">\n",
              "        \n",
              "  <svg xmlns=\"http://www.w3.org/2000/svg\" height=\"24px\"viewBox=\"0 0 24 24\"\n",
              "       width=\"24px\">\n",
              "    <path d=\"M0 0h24v24H0V0z\" fill=\"none\"/>\n",
              "    <path d=\"M18.56 5.44l.94 2.06.94-2.06 2.06-.94-2.06-.94-.94-2.06-.94 2.06-2.06.94zm-11 1L8.5 8.5l.94-2.06 2.06-.94-2.06-.94L8.5 2.5l-.94 2.06-2.06.94zm10 10l.94 2.06.94-2.06 2.06-.94-2.06-.94-.94-2.06-.94 2.06-2.06.94z\"/><path d=\"M17.41 7.96l-1.37-1.37c-.4-.4-.92-.59-1.43-.59-.52 0-1.04.2-1.43.59L10.3 9.45l-7.72 7.72c-.78.78-.78 2.05 0 2.83L4 21.41c.39.39.9.59 1.41.59.51 0 1.02-.2 1.41-.59l7.78-7.78 2.81-2.81c.8-.78.8-2.07 0-2.86zM5.41 20L4 18.59l7.72-7.72 1.47 1.35L5.41 20z\"/>\n",
              "  </svg>\n",
              "      </button>\n",
              "      \n",
              "  <style>\n",
              "    .colab-df-container {\n",
              "      display:flex;\n",
              "      flex-wrap:wrap;\n",
              "      gap: 12px;\n",
              "    }\n",
              "\n",
              "    .colab-df-convert {\n",
              "      background-color: #E8F0FE;\n",
              "      border: none;\n",
              "      border-radius: 50%;\n",
              "      cursor: pointer;\n",
              "      display: none;\n",
              "      fill: #1967D2;\n",
              "      height: 32px;\n",
              "      padding: 0 0 0 0;\n",
              "      width: 32px;\n",
              "    }\n",
              "\n",
              "    .colab-df-convert:hover {\n",
              "      background-color: #E2EBFA;\n",
              "      box-shadow: 0px 1px 2px rgba(60, 64, 67, 0.3), 0px 1px 3px 1px rgba(60, 64, 67, 0.15);\n",
              "      fill: #174EA6;\n",
              "    }\n",
              "\n",
              "    [theme=dark] .colab-df-convert {\n",
              "      background-color: #3B4455;\n",
              "      fill: #D2E3FC;\n",
              "    }\n",
              "\n",
              "    [theme=dark] .colab-df-convert:hover {\n",
              "      background-color: #434B5C;\n",
              "      box-shadow: 0px 1px 3px 1px rgba(0, 0, 0, 0.15);\n",
              "      filter: drop-shadow(0px 1px 2px rgba(0, 0, 0, 0.3));\n",
              "      fill: #FFFFFF;\n",
              "    }\n",
              "  </style>\n",
              "\n",
              "      <script>\n",
              "        const buttonEl =\n",
              "          document.querySelector('#df-ac5fcc0e-edea-4112-89af-8abb033ec06a button.colab-df-convert');\n",
              "        buttonEl.style.display =\n",
              "          google.colab.kernel.accessAllowed ? 'block' : 'none';\n",
              "\n",
              "        async function convertToInteractive(key) {\n",
              "          const element = document.querySelector('#df-ac5fcc0e-edea-4112-89af-8abb033ec06a');\n",
              "          const dataTable =\n",
              "            await google.colab.kernel.invokeFunction('convertToInteractive',\n",
              "                                                     [key], {});\n",
              "          if (!dataTable) return;\n",
              "\n",
              "          const docLinkHtml = 'Like what you see? Visit the ' +\n",
              "            '<a target=\"_blank\" href=https://colab.research.google.com/notebooks/data_table.ipynb>data table notebook</a>'\n",
              "            + ' to learn more about interactive tables.';\n",
              "          element.innerHTML = '';\n",
              "          dataTable['output_type'] = 'display_data';\n",
              "          await google.colab.output.renderOutput(dataTable, element);\n",
              "          const docLink = document.createElement('div');\n",
              "          docLink.innerHTML = docLinkHtml;\n",
              "          element.appendChild(docLink);\n",
              "        }\n",
              "      </script>\n",
              "    </div>\n",
              "  </div>\n",
              "  "
            ]
          },
          "metadata": {},
          "execution_count": 91
        }
      ]
    },
    {
      "cell_type": "markdown",
      "source": [
        "Changing the Encoding of Segmentation column from (A, B, C, D ) into numbers (1,2,3,4)"
      ],
      "metadata": {
        "id": "nRmVx4x8eHmJ"
      }
    },
    {
      "cell_type": "code",
      "source": [
        "from sklearn.preprocessing import LabelEncoder\n",
        "le = LabelEncoder()\n",
        "train_dr['Segmentation'] = le.fit_transform(train_dr['Segmentation'])\n",
        "\n",
        "train_dr.head()"
      ],
      "metadata": {
        "colab": {
          "base_uri": "https://localhost:8080/",
          "height": 300
        },
        "id": "NZuKLE-cd37s",
        "outputId": "b41c0083-5a54-4ae6-8989-8f107358a310"
      },
      "execution_count": null,
      "outputs": [
        {
          "output_type": "execute_result",
          "data": {
            "text/plain": [
              "       ID       Age  Work_Experience  Family_Size  Segmentation  \\\n",
              "0  462809  0.056338         0.071429        0.375             3   \n",
              "2  466315  0.690141         0.071429        0.000             1   \n",
              "3  461735  0.690141         0.000000        0.125             1   \n",
              "5  461319  0.535211         0.000000        0.125             2   \n",
              "6  460156  0.197183         0.071429        0.250             2   \n",
              "\n",
              "   Gender_Female  Gender_Male  Ever_Married_No  Ever_Married_Yes  \\\n",
              "0              0            1                1                 0   \n",
              "2              1            0                0                 1   \n",
              "3              0            1                0                 1   \n",
              "5              0            1                0                 1   \n",
              "6              0            1                1                 0   \n",
              "\n",
              "   Profession_Artist  ...  Spending_Score_Average  Spending_Score_High  \\\n",
              "0                  0  ...                       0                    0   \n",
              "2                  0  ...                       0                    0   \n",
              "3                  0  ...                       0                    1   \n",
              "5                  1  ...                       1                    0   \n",
              "6                  0  ...                       0                    0   \n",
              "\n",
              "   Spending_Score_Low  Var_1_Cat_1  Var_1_Cat_2  Var_1_Cat_3  Var_1_Cat_4  \\\n",
              "0                   1            0            0            0            1   \n",
              "2                   1            0            0            0            0   \n",
              "3                   0            0            0            0            0   \n",
              "5                   0            0            0            0            0   \n",
              "6                   1            0            0            0            0   \n",
              "\n",
              "   Var_1_Cat_5  Var_1_Cat_6  Var_1_Cat_7  \n",
              "0            0            0            0  \n",
              "2            0            1            0  \n",
              "3            0            1            0  \n",
              "5            0            1            0  \n",
              "6            0            1            0  \n",
              "\n",
              "[5 rows x 28 columns]"
            ],
            "text/html": [
              "\n",
              "  <div id=\"df-33b523db-79b4-4120-9235-a0784a3d24b9\">\n",
              "    <div class=\"colab-df-container\">\n",
              "      <div>\n",
              "<style scoped>\n",
              "    .dataframe tbody tr th:only-of-type {\n",
              "        vertical-align: middle;\n",
              "    }\n",
              "\n",
              "    .dataframe tbody tr th {\n",
              "        vertical-align: top;\n",
              "    }\n",
              "\n",
              "    .dataframe thead th {\n",
              "        text-align: right;\n",
              "    }\n",
              "</style>\n",
              "<table border=\"1\" class=\"dataframe\">\n",
              "  <thead>\n",
              "    <tr style=\"text-align: right;\">\n",
              "      <th></th>\n",
              "      <th>ID</th>\n",
              "      <th>Age</th>\n",
              "      <th>Work_Experience</th>\n",
              "      <th>Family_Size</th>\n",
              "      <th>Segmentation</th>\n",
              "      <th>Gender_Female</th>\n",
              "      <th>Gender_Male</th>\n",
              "      <th>Ever_Married_No</th>\n",
              "      <th>Ever_Married_Yes</th>\n",
              "      <th>Profession_Artist</th>\n",
              "      <th>...</th>\n",
              "      <th>Spending_Score_Average</th>\n",
              "      <th>Spending_Score_High</th>\n",
              "      <th>Spending_Score_Low</th>\n",
              "      <th>Var_1_Cat_1</th>\n",
              "      <th>Var_1_Cat_2</th>\n",
              "      <th>Var_1_Cat_3</th>\n",
              "      <th>Var_1_Cat_4</th>\n",
              "      <th>Var_1_Cat_5</th>\n",
              "      <th>Var_1_Cat_6</th>\n",
              "      <th>Var_1_Cat_7</th>\n",
              "    </tr>\n",
              "  </thead>\n",
              "  <tbody>\n",
              "    <tr>\n",
              "      <th>0</th>\n",
              "      <td>462809</td>\n",
              "      <td>0.056338</td>\n",
              "      <td>0.071429</td>\n",
              "      <td>0.375</td>\n",
              "      <td>3</td>\n",
              "      <td>0</td>\n",
              "      <td>1</td>\n",
              "      <td>1</td>\n",
              "      <td>0</td>\n",
              "      <td>0</td>\n",
              "      <td>...</td>\n",
              "      <td>0</td>\n",
              "      <td>0</td>\n",
              "      <td>1</td>\n",
              "      <td>0</td>\n",
              "      <td>0</td>\n",
              "      <td>0</td>\n",
              "      <td>1</td>\n",
              "      <td>0</td>\n",
              "      <td>0</td>\n",
              "      <td>0</td>\n",
              "    </tr>\n",
              "    <tr>\n",
              "      <th>2</th>\n",
              "      <td>466315</td>\n",
              "      <td>0.690141</td>\n",
              "      <td>0.071429</td>\n",
              "      <td>0.000</td>\n",
              "      <td>1</td>\n",
              "      <td>1</td>\n",
              "      <td>0</td>\n",
              "      <td>0</td>\n",
              "      <td>1</td>\n",
              "      <td>0</td>\n",
              "      <td>...</td>\n",
              "      <td>0</td>\n",
              "      <td>0</td>\n",
              "      <td>1</td>\n",
              "      <td>0</td>\n",
              "      <td>0</td>\n",
              "      <td>0</td>\n",
              "      <td>0</td>\n",
              "      <td>0</td>\n",
              "      <td>1</td>\n",
              "      <td>0</td>\n",
              "    </tr>\n",
              "    <tr>\n",
              "      <th>3</th>\n",
              "      <td>461735</td>\n",
              "      <td>0.690141</td>\n",
              "      <td>0.000000</td>\n",
              "      <td>0.125</td>\n",
              "      <td>1</td>\n",
              "      <td>0</td>\n",
              "      <td>1</td>\n",
              "      <td>0</td>\n",
              "      <td>1</td>\n",
              "      <td>0</td>\n",
              "      <td>...</td>\n",
              "      <td>0</td>\n",
              "      <td>1</td>\n",
              "      <td>0</td>\n",
              "      <td>0</td>\n",
              "      <td>0</td>\n",
              "      <td>0</td>\n",
              "      <td>0</td>\n",
              "      <td>0</td>\n",
              "      <td>1</td>\n",
              "      <td>0</td>\n",
              "    </tr>\n",
              "    <tr>\n",
              "      <th>5</th>\n",
              "      <td>461319</td>\n",
              "      <td>0.535211</td>\n",
              "      <td>0.000000</td>\n",
              "      <td>0.125</td>\n",
              "      <td>2</td>\n",
              "      <td>0</td>\n",
              "      <td>1</td>\n",
              "      <td>0</td>\n",
              "      <td>1</td>\n",
              "      <td>1</td>\n",
              "      <td>...</td>\n",
              "      <td>1</td>\n",
              "      <td>0</td>\n",
              "      <td>0</td>\n",
              "      <td>0</td>\n",
              "      <td>0</td>\n",
              "      <td>0</td>\n",
              "      <td>0</td>\n",
              "      <td>0</td>\n",
              "      <td>1</td>\n",
              "      <td>0</td>\n",
              "    </tr>\n",
              "    <tr>\n",
              "      <th>6</th>\n",
              "      <td>460156</td>\n",
              "      <td>0.197183</td>\n",
              "      <td>0.071429</td>\n",
              "      <td>0.250</td>\n",
              "      <td>2</td>\n",
              "      <td>0</td>\n",
              "      <td>1</td>\n",
              "      <td>1</td>\n",
              "      <td>0</td>\n",
              "      <td>0</td>\n",
              "      <td>...</td>\n",
              "      <td>0</td>\n",
              "      <td>0</td>\n",
              "      <td>1</td>\n",
              "      <td>0</td>\n",
              "      <td>0</td>\n",
              "      <td>0</td>\n",
              "      <td>0</td>\n",
              "      <td>0</td>\n",
              "      <td>1</td>\n",
              "      <td>0</td>\n",
              "    </tr>\n",
              "  </tbody>\n",
              "</table>\n",
              "<p>5 rows × 28 columns</p>\n",
              "</div>\n",
              "      <button class=\"colab-df-convert\" onclick=\"convertToInteractive('df-33b523db-79b4-4120-9235-a0784a3d24b9')\"\n",
              "              title=\"Convert this dataframe to an interactive table.\"\n",
              "              style=\"display:none;\">\n",
              "        \n",
              "  <svg xmlns=\"http://www.w3.org/2000/svg\" height=\"24px\"viewBox=\"0 0 24 24\"\n",
              "       width=\"24px\">\n",
              "    <path d=\"M0 0h24v24H0V0z\" fill=\"none\"/>\n",
              "    <path d=\"M18.56 5.44l.94 2.06.94-2.06 2.06-.94-2.06-.94-.94-2.06-.94 2.06-2.06.94zm-11 1L8.5 8.5l.94-2.06 2.06-.94-2.06-.94L8.5 2.5l-.94 2.06-2.06.94zm10 10l.94 2.06.94-2.06 2.06-.94-2.06-.94-.94-2.06-.94 2.06-2.06.94z\"/><path d=\"M17.41 7.96l-1.37-1.37c-.4-.4-.92-.59-1.43-.59-.52 0-1.04.2-1.43.59L10.3 9.45l-7.72 7.72c-.78.78-.78 2.05 0 2.83L4 21.41c.39.39.9.59 1.41.59.51 0 1.02-.2 1.41-.59l7.78-7.78 2.81-2.81c.8-.78.8-2.07 0-2.86zM5.41 20L4 18.59l7.72-7.72 1.47 1.35L5.41 20z\"/>\n",
              "  </svg>\n",
              "      </button>\n",
              "      \n",
              "  <style>\n",
              "    .colab-df-container {\n",
              "      display:flex;\n",
              "      flex-wrap:wrap;\n",
              "      gap: 12px;\n",
              "    }\n",
              "\n",
              "    .colab-df-convert {\n",
              "      background-color: #E8F0FE;\n",
              "      border: none;\n",
              "      border-radius: 50%;\n",
              "      cursor: pointer;\n",
              "      display: none;\n",
              "      fill: #1967D2;\n",
              "      height: 32px;\n",
              "      padding: 0 0 0 0;\n",
              "      width: 32px;\n",
              "    }\n",
              "\n",
              "    .colab-df-convert:hover {\n",
              "      background-color: #E2EBFA;\n",
              "      box-shadow: 0px 1px 2px rgba(60, 64, 67, 0.3), 0px 1px 3px 1px rgba(60, 64, 67, 0.15);\n",
              "      fill: #174EA6;\n",
              "    }\n",
              "\n",
              "    [theme=dark] .colab-df-convert {\n",
              "      background-color: #3B4455;\n",
              "      fill: #D2E3FC;\n",
              "    }\n",
              "\n",
              "    [theme=dark] .colab-df-convert:hover {\n",
              "      background-color: #434B5C;\n",
              "      box-shadow: 0px 1px 3px 1px rgba(0, 0, 0, 0.15);\n",
              "      filter: drop-shadow(0px 1px 2px rgba(0, 0, 0, 0.3));\n",
              "      fill: #FFFFFF;\n",
              "    }\n",
              "  </style>\n",
              "\n",
              "      <script>\n",
              "        const buttonEl =\n",
              "          document.querySelector('#df-33b523db-79b4-4120-9235-a0784a3d24b9 button.colab-df-convert');\n",
              "        buttonEl.style.display =\n",
              "          google.colab.kernel.accessAllowed ? 'block' : 'none';\n",
              "\n",
              "        async function convertToInteractive(key) {\n",
              "          const element = document.querySelector('#df-33b523db-79b4-4120-9235-a0784a3d24b9');\n",
              "          const dataTable =\n",
              "            await google.colab.kernel.invokeFunction('convertToInteractive',\n",
              "                                                     [key], {});\n",
              "          if (!dataTable) return;\n",
              "\n",
              "          const docLinkHtml = 'Like what you see? Visit the ' +\n",
              "            '<a target=\"_blank\" href=https://colab.research.google.com/notebooks/data_table.ipynb>data table notebook</a>'\n",
              "            + ' to learn more about interactive tables.';\n",
              "          element.innerHTML = '';\n",
              "          dataTable['output_type'] = 'display_data';\n",
              "          await google.colab.output.renderOutput(dataTable, element);\n",
              "          const docLink = document.createElement('div');\n",
              "          docLink.innerHTML = docLinkHtml;\n",
              "          element.appendChild(docLink);\n",
              "        }\n",
              "      </script>\n",
              "    </div>\n",
              "  </div>\n",
              "  "
            ]
          },
          "metadata": {},
          "execution_count": 92
        }
      ]
    },
    {
      "cell_type": "markdown",
      "source": [
        "#Training And Testing Splitting"
      ],
      "metadata": {
        "id": "zBegClgtecda"
      }
    },
    {
      "cell_type": "code",
      "source": [
        "from re import X\n",
        "from pandas.tseries.frequencies import unique\n",
        "from sklearn.model_selection import train_test_split \n",
        "\n",
        "aim = ['Segmentation']\n",
        "unique_identifier = ['ID']\n",
        "\n",
        "method = [x for x in train_dr.columns if x not in aim+unique_identifier]\n",
        "\n",
        "X = train_dr[method].values\n",
        "y = train_dr[aim].values\n",
        "\n",
        "X.shape, y.shape\n",
        "y= train_dr[aim].values\n",
        "\n",
        "X.shape, y.shape\n",
        "\n",
        "X_train, X_test, y_train, y_test = train_test_split(X,y,test_size = 0.2)\n",
        "\n",
        "X_train.shape, X_test.shape"
      ],
      "metadata": {
        "colab": {
          "base_uri": "https://localhost:8080/"
        },
        "id": "493LQaZKeisD",
        "outputId": "99c723bd-b3a5-4672-9481-a59108169042"
      },
      "execution_count": null,
      "outputs": [
        {
          "output_type": "execute_result",
          "data": {
            "text/plain": [
              "((5374, 26), (1344, 26))"
            ]
          },
          "metadata": {},
          "execution_count": 93
        }
      ]
    },
    {
      "cell_type": "markdown",
      "source": [
        "#KMeans Algorithm"
      ],
      "metadata": {
        "id": "-VFkOi97ftFW"
      }
    },
    {
      "cell_type": "code",
      "source": [
        "from sklearn.cluster import KMeans \n",
        "from sklearn.metrics import confusion_matrix, classification_report\n",
        "\n",
        "kmean_algo = (KMeans(n_clusters = 4,  init = 'k-means++', n_init =10, max_iter=300,tol=0.0001, random_state = 111, algorithm = 'elkan'))\n",
        "kmean_algo.fit(X_train)\n",
        "labels = kmean_algo.labels_\n",
        "centroids = kmean_algo.cluster_centers_\n",
        "confusion_mtx = confusion_matrix(y_train, labels)\n",
        "\n",
        "print(\"Confusion Matrix\")\n",
        "print(confusion_mtx)\n",
        "print(\"Classification Report\")\n",
        "print(classification_report(y_train,labels))"
      ],
      "metadata": {
        "colab": {
          "base_uri": "https://localhost:8080/"
        },
        "id": "8556rPKNfyZ9",
        "outputId": "9e27379f-3a70-403c-b490-804dd5206874"
      },
      "execution_count": null,
      "outputs": [
        {
          "output_type": "stream",
          "name": "stdout",
          "text": [
            "Confusion Matrix\n",
            "[[285 478 224 307]\n",
            " [380 550 138 206]\n",
            " [481 621 115 150]\n",
            " [122 268 566 483]]\n",
            "Classification Report\n",
            "              precision    recall  f1-score   support\n",
            "\n",
            "           0       0.22      0.22      0.22      1294\n",
            "           1       0.29      0.43      0.34      1274\n",
            "           2       0.11      0.08      0.10      1367\n",
            "           3       0.42      0.34      0.37      1439\n",
            "\n",
            "    accuracy                           0.27      5374\n",
            "   macro avg       0.26      0.27      0.26      5374\n",
            "weighted avg       0.26      0.27      0.26      5374\n",
            "\n"
          ]
        }
      ]
    },
    {
      "cell_type": "markdown",
      "source": [
        "Accuracy rate of the Kmeans is 19%"
      ],
      "metadata": {
        "id": "tvAJalX3nPFE"
      }
    },
    {
      "cell_type": "markdown",
      "source": [
        "#KNN ALGORITHM"
      ],
      "metadata": {
        "id": "9D_OFGvkgWU2"
      }
    },
    {
      "cell_type": "code",
      "source": [
        "# Checking fro accurancy in train and test data\n",
        "from sklearn.neighbors import KNeighborsClassifier\n",
        "testing_values = []\n",
        "training_values = []\n",
        "\n",
        "for i in range(1,15):\n",
        "  \n",
        "  KNN = KNeighborsClassifier(i)\n",
        "  KNN.fit(X_train, y_train)\n",
        "\n",
        "  training_values.append(KNN.score(X_train, y_train))\n",
        "  testing_values.append(KNN.score(X_test, y_test))\n"
      ],
      "metadata": {
        "colab": {
          "base_uri": "https://localhost:8080/"
        },
        "id": "wEihCqGlghP3",
        "outputId": "6688e847-cd98-4d2a-d9c4-f13fe141c8f9"
      },
      "execution_count": null,
      "outputs": [
        {
          "output_type": "stream",
          "name": "stderr",
          "text": [
            "/usr/local/lib/python3.7/dist-packages/sklearn/neighbors/_classification.py:198: DataConversionWarning: A column-vector y was passed when a 1d array was expected. Please change the shape of y to (n_samples,), for example using ravel().\n",
            "  return self._fit(X, y)\n",
            "/usr/local/lib/python3.7/dist-packages/sklearn/neighbors/_classification.py:198: DataConversionWarning: A column-vector y was passed when a 1d array was expected. Please change the shape of y to (n_samples,), for example using ravel().\n",
            "  return self._fit(X, y)\n",
            "/usr/local/lib/python3.7/dist-packages/sklearn/neighbors/_classification.py:198: DataConversionWarning: A column-vector y was passed when a 1d array was expected. Please change the shape of y to (n_samples,), for example using ravel().\n",
            "  return self._fit(X, y)\n",
            "/usr/local/lib/python3.7/dist-packages/sklearn/neighbors/_classification.py:198: DataConversionWarning: A column-vector y was passed when a 1d array was expected. Please change the shape of y to (n_samples,), for example using ravel().\n",
            "  return self._fit(X, y)\n",
            "/usr/local/lib/python3.7/dist-packages/sklearn/neighbors/_classification.py:198: DataConversionWarning: A column-vector y was passed when a 1d array was expected. Please change the shape of y to (n_samples,), for example using ravel().\n",
            "  return self._fit(X, y)\n",
            "/usr/local/lib/python3.7/dist-packages/sklearn/neighbors/_classification.py:198: DataConversionWarning: A column-vector y was passed when a 1d array was expected. Please change the shape of y to (n_samples,), for example using ravel().\n",
            "  return self._fit(X, y)\n",
            "/usr/local/lib/python3.7/dist-packages/sklearn/neighbors/_classification.py:198: DataConversionWarning: A column-vector y was passed when a 1d array was expected. Please change the shape of y to (n_samples,), for example using ravel().\n",
            "  return self._fit(X, y)\n",
            "/usr/local/lib/python3.7/dist-packages/sklearn/neighbors/_classification.py:198: DataConversionWarning: A column-vector y was passed when a 1d array was expected. Please change the shape of y to (n_samples,), for example using ravel().\n",
            "  return self._fit(X, y)\n",
            "/usr/local/lib/python3.7/dist-packages/sklearn/neighbors/_classification.py:198: DataConversionWarning: A column-vector y was passed when a 1d array was expected. Please change the shape of y to (n_samples,), for example using ravel().\n",
            "  return self._fit(X, y)\n",
            "/usr/local/lib/python3.7/dist-packages/sklearn/neighbors/_classification.py:198: DataConversionWarning: A column-vector y was passed when a 1d array was expected. Please change the shape of y to (n_samples,), for example using ravel().\n",
            "  return self._fit(X, y)\n",
            "/usr/local/lib/python3.7/dist-packages/sklearn/neighbors/_classification.py:198: DataConversionWarning: A column-vector y was passed when a 1d array was expected. Please change the shape of y to (n_samples,), for example using ravel().\n",
            "  return self._fit(X, y)\n",
            "/usr/local/lib/python3.7/dist-packages/sklearn/neighbors/_classification.py:198: DataConversionWarning: A column-vector y was passed when a 1d array was expected. Please change the shape of y to (n_samples,), for example using ravel().\n",
            "  return self._fit(X, y)\n",
            "/usr/local/lib/python3.7/dist-packages/sklearn/neighbors/_classification.py:198: DataConversionWarning: A column-vector y was passed when a 1d array was expected. Please change the shape of y to (n_samples,), for example using ravel().\n",
            "  return self._fit(X, y)\n",
            "/usr/local/lib/python3.7/dist-packages/sklearn/neighbors/_classification.py:198: DataConversionWarning: A column-vector y was passed when a 1d array was expected. Please change the shape of y to (n_samples,), for example using ravel().\n",
            "  return self._fit(X, y)\n"
          ]
        }
      ]
    },
    {
      "cell_type": "code",
      "source": [
        "test_dr.head()\n",
        "train_dr.head()"
      ],
      "metadata": {
        "colab": {
          "base_uri": "https://localhost:8080/",
          "height": 300
        },
        "id": "pm6IM0gUkhra",
        "outputId": "032c3e94-37f9-4897-d313-a4266e30e753"
      },
      "execution_count": null,
      "outputs": [
        {
          "output_type": "execute_result",
          "data": {
            "text/plain": [
              "       ID       Age  Work_Experience  Family_Size  Segmentation  \\\n",
              "0  462809  0.056338         0.071429        0.375             3   \n",
              "2  466315  0.690141         0.071429        0.000             1   \n",
              "3  461735  0.690141         0.000000        0.125             1   \n",
              "5  461319  0.535211         0.000000        0.125             2   \n",
              "6  460156  0.197183         0.071429        0.250             2   \n",
              "\n",
              "   Gender_Female  Gender_Male  Ever_Married_No  Ever_Married_Yes  \\\n",
              "0              0            1                1                 0   \n",
              "2              1            0                0                 1   \n",
              "3              0            1                0                 1   \n",
              "5              0            1                0                 1   \n",
              "6              0            1                1                 0   \n",
              "\n",
              "   Profession_Artist  ...  Spending_Score_Average  Spending_Score_High  \\\n",
              "0                  0  ...                       0                    0   \n",
              "2                  0  ...                       0                    0   \n",
              "3                  0  ...                       0                    1   \n",
              "5                  1  ...                       1                    0   \n",
              "6                  0  ...                       0                    0   \n",
              "\n",
              "   Spending_Score_Low  Var_1_Cat_1  Var_1_Cat_2  Var_1_Cat_3  Var_1_Cat_4  \\\n",
              "0                   1            0            0            0            1   \n",
              "2                   1            0            0            0            0   \n",
              "3                   0            0            0            0            0   \n",
              "5                   0            0            0            0            0   \n",
              "6                   1            0            0            0            0   \n",
              "\n",
              "   Var_1_Cat_5  Var_1_Cat_6  Var_1_Cat_7  \n",
              "0            0            0            0  \n",
              "2            0            1            0  \n",
              "3            0            1            0  \n",
              "5            0            1            0  \n",
              "6            0            1            0  \n",
              "\n",
              "[5 rows x 28 columns]"
            ],
            "text/html": [
              "\n",
              "  <div id=\"df-42336f75-2aad-4fb9-ad22-27e7bb39250e\">\n",
              "    <div class=\"colab-df-container\">\n",
              "      <div>\n",
              "<style scoped>\n",
              "    .dataframe tbody tr th:only-of-type {\n",
              "        vertical-align: middle;\n",
              "    }\n",
              "\n",
              "    .dataframe tbody tr th {\n",
              "        vertical-align: top;\n",
              "    }\n",
              "\n",
              "    .dataframe thead th {\n",
              "        text-align: right;\n",
              "    }\n",
              "</style>\n",
              "<table border=\"1\" class=\"dataframe\">\n",
              "  <thead>\n",
              "    <tr style=\"text-align: right;\">\n",
              "      <th></th>\n",
              "      <th>ID</th>\n",
              "      <th>Age</th>\n",
              "      <th>Work_Experience</th>\n",
              "      <th>Family_Size</th>\n",
              "      <th>Segmentation</th>\n",
              "      <th>Gender_Female</th>\n",
              "      <th>Gender_Male</th>\n",
              "      <th>Ever_Married_No</th>\n",
              "      <th>Ever_Married_Yes</th>\n",
              "      <th>Profession_Artist</th>\n",
              "      <th>...</th>\n",
              "      <th>Spending_Score_Average</th>\n",
              "      <th>Spending_Score_High</th>\n",
              "      <th>Spending_Score_Low</th>\n",
              "      <th>Var_1_Cat_1</th>\n",
              "      <th>Var_1_Cat_2</th>\n",
              "      <th>Var_1_Cat_3</th>\n",
              "      <th>Var_1_Cat_4</th>\n",
              "      <th>Var_1_Cat_5</th>\n",
              "      <th>Var_1_Cat_6</th>\n",
              "      <th>Var_1_Cat_7</th>\n",
              "    </tr>\n",
              "  </thead>\n",
              "  <tbody>\n",
              "    <tr>\n",
              "      <th>0</th>\n",
              "      <td>462809</td>\n",
              "      <td>0.056338</td>\n",
              "      <td>0.071429</td>\n",
              "      <td>0.375</td>\n",
              "      <td>3</td>\n",
              "      <td>0</td>\n",
              "      <td>1</td>\n",
              "      <td>1</td>\n",
              "      <td>0</td>\n",
              "      <td>0</td>\n",
              "      <td>...</td>\n",
              "      <td>0</td>\n",
              "      <td>0</td>\n",
              "      <td>1</td>\n",
              "      <td>0</td>\n",
              "      <td>0</td>\n",
              "      <td>0</td>\n",
              "      <td>1</td>\n",
              "      <td>0</td>\n",
              "      <td>0</td>\n",
              "      <td>0</td>\n",
              "    </tr>\n",
              "    <tr>\n",
              "      <th>2</th>\n",
              "      <td>466315</td>\n",
              "      <td>0.690141</td>\n",
              "      <td>0.071429</td>\n",
              "      <td>0.000</td>\n",
              "      <td>1</td>\n",
              "      <td>1</td>\n",
              "      <td>0</td>\n",
              "      <td>0</td>\n",
              "      <td>1</td>\n",
              "      <td>0</td>\n",
              "      <td>...</td>\n",
              "      <td>0</td>\n",
              "      <td>0</td>\n",
              "      <td>1</td>\n",
              "      <td>0</td>\n",
              "      <td>0</td>\n",
              "      <td>0</td>\n",
              "      <td>0</td>\n",
              "      <td>0</td>\n",
              "      <td>1</td>\n",
              "      <td>0</td>\n",
              "    </tr>\n",
              "    <tr>\n",
              "      <th>3</th>\n",
              "      <td>461735</td>\n",
              "      <td>0.690141</td>\n",
              "      <td>0.000000</td>\n",
              "      <td>0.125</td>\n",
              "      <td>1</td>\n",
              "      <td>0</td>\n",
              "      <td>1</td>\n",
              "      <td>0</td>\n",
              "      <td>1</td>\n",
              "      <td>0</td>\n",
              "      <td>...</td>\n",
              "      <td>0</td>\n",
              "      <td>1</td>\n",
              "      <td>0</td>\n",
              "      <td>0</td>\n",
              "      <td>0</td>\n",
              "      <td>0</td>\n",
              "      <td>0</td>\n",
              "      <td>0</td>\n",
              "      <td>1</td>\n",
              "      <td>0</td>\n",
              "    </tr>\n",
              "    <tr>\n",
              "      <th>5</th>\n",
              "      <td>461319</td>\n",
              "      <td>0.535211</td>\n",
              "      <td>0.000000</td>\n",
              "      <td>0.125</td>\n",
              "      <td>2</td>\n",
              "      <td>0</td>\n",
              "      <td>1</td>\n",
              "      <td>0</td>\n",
              "      <td>1</td>\n",
              "      <td>1</td>\n",
              "      <td>...</td>\n",
              "      <td>1</td>\n",
              "      <td>0</td>\n",
              "      <td>0</td>\n",
              "      <td>0</td>\n",
              "      <td>0</td>\n",
              "      <td>0</td>\n",
              "      <td>0</td>\n",
              "      <td>0</td>\n",
              "      <td>1</td>\n",
              "      <td>0</td>\n",
              "    </tr>\n",
              "    <tr>\n",
              "      <th>6</th>\n",
              "      <td>460156</td>\n",
              "      <td>0.197183</td>\n",
              "      <td>0.071429</td>\n",
              "      <td>0.250</td>\n",
              "      <td>2</td>\n",
              "      <td>0</td>\n",
              "      <td>1</td>\n",
              "      <td>1</td>\n",
              "      <td>0</td>\n",
              "      <td>0</td>\n",
              "      <td>...</td>\n",
              "      <td>0</td>\n",
              "      <td>0</td>\n",
              "      <td>1</td>\n",
              "      <td>0</td>\n",
              "      <td>0</td>\n",
              "      <td>0</td>\n",
              "      <td>0</td>\n",
              "      <td>0</td>\n",
              "      <td>1</td>\n",
              "      <td>0</td>\n",
              "    </tr>\n",
              "  </tbody>\n",
              "</table>\n",
              "<p>5 rows × 28 columns</p>\n",
              "</div>\n",
              "      <button class=\"colab-df-convert\" onclick=\"convertToInteractive('df-42336f75-2aad-4fb9-ad22-27e7bb39250e')\"\n",
              "              title=\"Convert this dataframe to an interactive table.\"\n",
              "              style=\"display:none;\">\n",
              "        \n",
              "  <svg xmlns=\"http://www.w3.org/2000/svg\" height=\"24px\"viewBox=\"0 0 24 24\"\n",
              "       width=\"24px\">\n",
              "    <path d=\"M0 0h24v24H0V0z\" fill=\"none\"/>\n",
              "    <path d=\"M18.56 5.44l.94 2.06.94-2.06 2.06-.94-2.06-.94-.94-2.06-.94 2.06-2.06.94zm-11 1L8.5 8.5l.94-2.06 2.06-.94-2.06-.94L8.5 2.5l-.94 2.06-2.06.94zm10 10l.94 2.06.94-2.06 2.06-.94-2.06-.94-.94-2.06-.94 2.06-2.06.94z\"/><path d=\"M17.41 7.96l-1.37-1.37c-.4-.4-.92-.59-1.43-.59-.52 0-1.04.2-1.43.59L10.3 9.45l-7.72 7.72c-.78.78-.78 2.05 0 2.83L4 21.41c.39.39.9.59 1.41.59.51 0 1.02-.2 1.41-.59l7.78-7.78 2.81-2.81c.8-.78.8-2.07 0-2.86zM5.41 20L4 18.59l7.72-7.72 1.47 1.35L5.41 20z\"/>\n",
              "  </svg>\n",
              "      </button>\n",
              "      \n",
              "  <style>\n",
              "    .colab-df-container {\n",
              "      display:flex;\n",
              "      flex-wrap:wrap;\n",
              "      gap: 12px;\n",
              "    }\n",
              "\n",
              "    .colab-df-convert {\n",
              "      background-color: #E8F0FE;\n",
              "      border: none;\n",
              "      border-radius: 50%;\n",
              "      cursor: pointer;\n",
              "      display: none;\n",
              "      fill: #1967D2;\n",
              "      height: 32px;\n",
              "      padding: 0 0 0 0;\n",
              "      width: 32px;\n",
              "    }\n",
              "\n",
              "    .colab-df-convert:hover {\n",
              "      background-color: #E2EBFA;\n",
              "      box-shadow: 0px 1px 2px rgba(60, 64, 67, 0.3), 0px 1px 3px 1px rgba(60, 64, 67, 0.15);\n",
              "      fill: #174EA6;\n",
              "    }\n",
              "\n",
              "    [theme=dark] .colab-df-convert {\n",
              "      background-color: #3B4455;\n",
              "      fill: #D2E3FC;\n",
              "    }\n",
              "\n",
              "    [theme=dark] .colab-df-convert:hover {\n",
              "      background-color: #434B5C;\n",
              "      box-shadow: 0px 1px 3px 1px rgba(0, 0, 0, 0.15);\n",
              "      filter: drop-shadow(0px 1px 2px rgba(0, 0, 0, 0.3));\n",
              "      fill: #FFFFFF;\n",
              "    }\n",
              "  </style>\n",
              "\n",
              "      <script>\n",
              "        const buttonEl =\n",
              "          document.querySelector('#df-42336f75-2aad-4fb9-ad22-27e7bb39250e button.colab-df-convert');\n",
              "        buttonEl.style.display =\n",
              "          google.colab.kernel.accessAllowed ? 'block' : 'none';\n",
              "\n",
              "        async function convertToInteractive(key) {\n",
              "          const element = document.querySelector('#df-42336f75-2aad-4fb9-ad22-27e7bb39250e');\n",
              "          const dataTable =\n",
              "            await google.colab.kernel.invokeFunction('convertToInteractive',\n",
              "                                                     [key], {});\n",
              "          if (!dataTable) return;\n",
              "\n",
              "          const docLinkHtml = 'Like what you see? Visit the ' +\n",
              "            '<a target=\"_blank\" href=https://colab.research.google.com/notebooks/data_table.ipynb>data table notebook</a>'\n",
              "            + ' to learn more about interactive tables.';\n",
              "          element.innerHTML = '';\n",
              "          dataTable['output_type'] = 'display_data';\n",
              "          await google.colab.output.renderOutput(dataTable, element);\n",
              "          const docLink = document.createElement('div');\n",
              "          docLink.innerHTML = docLinkHtml;\n",
              "          element.appendChild(docLink);\n",
              "        }\n",
              "      </script>\n",
              "    </div>\n",
              "  </div>\n",
              "  "
            ]
          },
          "metadata": {},
          "execution_count": 96
        }
      ]
    },
    {
      "cell_type": "code",
      "source": [
        "#Finding the Max Value from training DataSET\n",
        "train_max_score = max(training_values)\n",
        "for i, num in enumerate(training_values):\n",
        "  if num == train_max_score:\n",
        "    train_num = i+1\n",
        "train_num, train_max_score\n"
      ],
      "metadata": {
        "colab": {
          "base_uri": "https://localhost:8080/"
        },
        "id": "T5oP3qJTnNys",
        "outputId": "b3c18934-86ae-4574-9bac-a1596ca1b8d6"
      },
      "execution_count": null,
      "outputs": [
        {
          "output_type": "execute_result",
          "data": {
            "text/plain": [
              "(1, 0.9469668775586155)"
            ]
          },
          "metadata": {},
          "execution_count": 97
        }
      ]
    },
    {
      "cell_type": "markdown",
      "source": [
        "training value has 94%"
      ],
      "metadata": {
        "id": "wscUn-Iwnf9d"
      }
    },
    {
      "cell_type": "code",
      "source": [
        "#Finding the Max Value from testing DataSET\n",
        "test_max_score = max(testing_values)\n",
        "for i, num in enumerate(testing_values):\n",
        "  if num == test_max_score:\n",
        "    test_num = i+1\n",
        "test_num, test_max_score"
      ],
      "metadata": {
        "colab": {
          "base_uri": "https://localhost:8080/"
        },
        "id": "JvSS-smGnwOa",
        "outputId": "59541133-2439-4fe7-9262-ea338acbbc21"
      },
      "execution_count": null,
      "outputs": [
        {
          "output_type": "execute_result",
          "data": {
            "text/plain": [
              "(13, 0.5)"
            ]
          },
          "metadata": {},
          "execution_count": 98
        }
      ]
    },
    {
      "cell_type": "code",
      "source": [
        "#Graphs of Train Scores and Testing Score\n",
        "plt.figure(figsize= (12,5))\n",
        "pltd = sns.lineplot(range(1,15), training_values, marker = '^', label ='Training Score', color = 'red')\n",
        "pltd = sns.lineplot(range(1,15), testing_values, marker = 'v', label = 'Testing Score', color = 'blue')"
      ],
      "metadata": {
        "colab": {
          "base_uri": "https://localhost:8080/",
          "height": 411
        },
        "id": "dsswxWAQqCqe",
        "outputId": "1e036d76-d0eb-4c1c-fe9c-c002cab03fc4"
      },
      "execution_count": null,
      "outputs": [
        {
          "output_type": "stream",
          "name": "stderr",
          "text": [
            "/usr/local/lib/python3.7/dist-packages/seaborn/_decorators.py:43: FutureWarning: Pass the following variables as keyword args: x, y. From version 0.12, the only valid positional argument will be `data`, and passing other arguments without an explicit keyword will result in an error or misinterpretation.\n",
            "  FutureWarning\n",
            "/usr/local/lib/python3.7/dist-packages/seaborn/_decorators.py:43: FutureWarning: Pass the following variables as keyword args: x, y. From version 0.12, the only valid positional argument will be `data`, and passing other arguments without an explicit keyword will result in an error or misinterpretation.\n",
            "  FutureWarning\n"
          ]
        },
        {
          "output_type": "display_data",
          "data": {
            "text/plain": [
              "<Figure size 864x360 with 1 Axes>"
            ],
            "image/png": "[encoded data removed]"
          },
          "metadata": {}
        }
      ]
    },
    {
      "cell_type": "markdown",
      "source": [
        "#Checking for Accuracy"
      ],
      "metadata": {
        "id": "ojaFKu2zsIj0"
      }
    },
    {
      "cell_type": "code",
      "source": [
        "from sklearn.metrics import classification_report\n",
        "from sklearn.metrics._plot.confusion_matrix import confusion_matrix\n",
        "y_prediction = KNN.predict(X_test)\n",
        "print('Confusion Matrix')\n",
        "print(confusion_matrix(y_test, y_prediction), '\\n')\n",
        "print('Report')\n",
        "print(classification_report(y_test, y_prediction))"
      ],
      "metadata": {
        "colab": {
          "base_uri": "https://localhost:8080/"
        },
        "id": "opPPO0YUsHPK",
        "outputId": "6ecefc77-4cb5-48ba-bb75-7afe305ecb94"
      },
      "execution_count": null,
      "outputs": [
        {
          "output_type": "stream",
          "name": "stdout",
          "text": [
            "Confusion Matrix\n",
            "[[141  81  44  71]\n",
            " [ 69 113  86  40]\n",
            " [ 37  83 189  55]\n",
            " [ 63  30  15 227]] \n",
            "\n",
            "Report\n",
            "              precision    recall  f1-score   support\n",
            "\n",
            "           0       0.45      0.42      0.44       337\n",
            "           1       0.37      0.37      0.37       308\n",
            "           2       0.57      0.52      0.54       364\n",
            "           3       0.58      0.68      0.62       335\n",
            "\n",
            "    accuracy                           0.50      1344\n",
            "   macro avg       0.49      0.50      0.49      1344\n",
            "weighted avg       0.50      0.50      0.50      1344\n",
            "\n"
          ]
        }
      ]
    },
    {
      "cell_type": "markdown",
      "source": [
        "51% Accuracy"
      ],
      "metadata": {
        "id": "TsF5PKOitTQV"
      }
    },
    {
      "cell_type": "code",
      "source": [
        "from sklearn.cluster import KMeans\n",
        "km = KMeans(n_clusters=5)\n",
        "clusters = km.fit_predict(train_dr.iloc[:,1:])\n",
        "clusters"
      ],
      "metadata": {
        "id": "D0pa-kmT99-D",
        "colab": {
          "base_uri": "https://localhost:8080/"
        },
        "outputId": "611fa438-8189-49c9-f52f-cdddaf96b4a2"
      },
      "execution_count": null,
      "outputs": [
        {
          "output_type": "execute_result",
          "data": {
            "text/plain": [
              "array([2, 3, 4, ..., 2, 0, 4], dtype=int32)"
            ]
          },
          "metadata": {},
          "execution_count": 101
        }
      ]
    },
    {
      "cell_type": "code",
      "source": [
        "print(clusters)\n",
        "train_dr[\"label\"] = clusters\n",
        "\n",
        "from mpl_toolkits.mplot3d import Axes3D\n",
        "import matplotlib.pyplot as plt\n",
        "import numpy as np\n",
        "import pandas as pd\n",
        " \n",
        "fig = plt.figure(figsize=(15,9))\n",
        "ax = fig.add_subplot(111, projection='3d')\n",
        "\n",
        "ax.scatter(train_dr.Age[train_dr.label == 0], train_dr[\"Family_Size\"][train_dr.label == 0], train_dr[\"Spending_Score_Low\"][train_dr.label == 0], c='blue', s=60)\n",
        "ax.scatter(train_dr.Age[train_dr.label == 1], train_dr[\"Family_Size\"][train_dr.label == 1], train_dr[\"Spending_Score_Low\"][train_dr.label == 1], c='red', s=60)\n",
        "ax.scatter(train_dr.Age[train_dr.label == 2], train_dr[\"Family_Size\"][train_dr.label == 2], train_dr[\"Spending_Score_Low\"][train_dr.label == 2], c='green', s=60)\n",
        "ax.scatter(train_dr.Age[train_dr.label == 3], train_dr[\"Family_Size\"][train_dr.label == 3], train_dr[\"Spending_Score_Low\"][train_dr.label == 3], c='orange', s=60)\n",
        "ax.scatter(train_dr.Age[train_dr.label == 4], train_dr[\"Family_Size\"][train_dr.label == 4], train_dr[\"Spending_Score_Low\"][train_dr.label == 4], c='purple', s=60)\n",
        "\n",
        "ax.view_init(30, 185)\n",
        "plt.xlabel(\"Age\")\n",
        "plt.ylabel(\"Family Size\")\n",
        "ax.set_zlabel('Spending Score')\n",
        "plt.show()"
      ],
      "metadata": {
        "colab": {
          "base_uri": "https://localhost:8080/",
          "height": 537
        },
        "id": "TMugQVZ198Yr",
        "outputId": "57ff0570-f799-49b5-fa1a-7ffcc5a67b0a"
      },
      "execution_count": null,
      "outputs": [
        {
          "output_type": "stream",
          "name": "stdout",
          "text": [
            "[2 3 4 ... 2 0 4]\n"
          ]
        },
        {
          "output_type": "display_data",
          "data": {
            "text/plain": [
              "<Figure size 1080x648 with 1 Axes>"
            ],
            "image/png": "[encoded data removed]"
          },
          "metadata": {}
        }
      ]
    },
    {
      "cell_type": "markdown",
      "source": [
        "#Testing Data Prediction"
      ],
      "metadata": {
        "id": "EG0krhEsuvrM"
      }
    },
    {
      "cell_type": "code",
      "source": [
        "#REPLACING THE NUMBERICAL (1,2,3,4) VALUES IN SEGMENTATION WITH LETTERS (A,B,C,D,E)\n",
        "test_dr['Segmentation'] = KNN.predict(test_dr[method])\n",
        "\n",
        "test_dr['Segmentation'] = test_dr['Segmentation'].apply(str)\n",
        "mapping = {'0':'A', '1':'B','2':'C','3':'D'}\n",
        "test_dr['Segmentation'] = test_dr['Segmentation'].replace({'0':'A', '1':'B','2':'C','3':'D'})\n",
        "test_dr.head()"
      ],
      "metadata": {
        "id": "ekP2yUGsutEY",
        "colab": {
          "base_uri": "https://localhost:8080/",
          "height": 334
        },
        "outputId": "742bdabc-1859-4016-9052-3a8966a4eb38"
      },
      "execution_count": null,
      "outputs": [
        {
          "output_type": "stream",
          "name": "stderr",
          "text": [
            "/usr/local/lib/python3.7/dist-packages/sklearn/base.py:444: UserWarning: X has feature names, but KNeighborsClassifier was fitted without feature names\n",
            "  f\"X has feature names, but {self.__class__.__name__} was fitted without\"\n"
          ]
        },
        {
          "output_type": "execute_result",
          "data": {
            "text/plain": [
              "       ID       Age  Work_Experience  Family_Size Segmentation  Gender_Female  \\\n",
              "0  458989  0.253521         0.000000        0.000            A              1   \n",
              "1  458994  0.267606         0.571429        0.375            A              0   \n",
              "3  459000  0.577465         0.785714        0.125            C              0   \n",
              "5  459003  0.408451         0.000000        0.500            B              0   \n",
              "6  459005  0.605634         0.357143        0.250            A              0   \n",
              "\n",
              "   Gender_Male  Ever_Married_No  Ever_Married_Yes  Profession_Artist  ...  \\\n",
              "0            0                0                 1                  0  ...   \n",
              "1            1                0                 1                  0  ...   \n",
              "3            1                0                 1                  0  ...   \n",
              "5            1                0                 1                  0  ...   \n",
              "6            1                0                 1                  0  ...   \n",
              "\n",
              "   Spending_Score_Average  Spending_Score_High  Spending_Score_Low  \\\n",
              "0                       0                    0                   1   \n",
              "1                       1                    0                   0   \n",
              "3                       0                    1                   0   \n",
              "5                       0                    1                   0   \n",
              "6                       0                    0                   1   \n",
              "\n",
              "   Var_1_Cat_1  Var_1_Cat_2  Var_1_Cat_3  Var_1_Cat_4  Var_1_Cat_5  \\\n",
              "0            0            0            0            0            0   \n",
              "1            0            0            0            0            0   \n",
              "3            0            0            0            0            0   \n",
              "5            0            0            0            1            0   \n",
              "6            0            0            0            0            0   \n",
              "\n",
              "   Var_1_Cat_6  Var_1_Cat_7  \n",
              "0            1            0  \n",
              "1            1            0  \n",
              "3            1            0  \n",
              "5            0            0  \n",
              "6            1            0  \n",
              "\n",
              "[5 rows x 28 columns]"
            ],
            "text/html": [
              "\n",
              "  <div id=\"df-e62e7dc7-2adc-4a08-b57e-c2dd424458d1\">\n",
              "    <div class=\"colab-df-container\">\n",
              "      <div>\n",
              "<style scoped>\n",
              "    .dataframe tbody tr th:only-of-type {\n",
              "        vertical-align: middle;\n",
              "    }\n",
              "\n",
              "    .dataframe tbody tr th {\n",
              "        vertical-align: top;\n",
              "    }\n",
              "\n",
              "    .dataframe thead th {\n",
              "        text-align: right;\n",
              "    }\n",
              "</style>\n",
              "<table border=\"1\" class=\"dataframe\">\n",
              "  <thead>\n",
              "    <tr style=\"text-align: right;\">\n",
              "      <th></th>\n",
              "      <th>ID</th>\n",
              "      <th>Age</th>\n",
              "      <th>Work_Experience</th>\n",
              "      <th>Family_Size</th>\n",
              "      <th>Segmentation</th>\n",
              "      <th>Gender_Female</th>\n",
              "      <th>Gender_Male</th>\n",
              "      <th>Ever_Married_No</th>\n",
              "      <th>Ever_Married_Yes</th>\n",
              "      <th>Profession_Artist</th>\n",
              "      <th>...</th>\n",
              "      <th>Spending_Score_Average</th>\n",
              "      <th>Spending_Score_High</th>\n",
              "      <th>Spending_Score_Low</th>\n",
              "      <th>Var_1_Cat_1</th>\n",
              "      <th>Var_1_Cat_2</th>\n",
              "      <th>Var_1_Cat_3</th>\n",
              "      <th>Var_1_Cat_4</th>\n",
              "      <th>Var_1_Cat_5</th>\n",
              "      <th>Var_1_Cat_6</th>\n",
              "      <th>Var_1_Cat_7</th>\n",
              "    </tr>\n",
              "  </thead>\n",
              "  <tbody>\n",
              "    <tr>\n",
              "      <th>0</th>\n",
              "      <td>458989</td>\n",
              "      <td>0.253521</td>\n",
              "      <td>0.000000</td>\n",
              "      <td>0.000</td>\n",
              "      <td>A</td>\n",
              "      <td>1</td>\n",
              "      <td>0</td>\n",
              "      <td>0</td>\n",
              "      <td>1</td>\n",
              "      <td>0</td>\n",
              "      <td>...</td>\n",
              "      <td>0</td>\n",
              "      <td>0</td>\n",
              "      <td>1</td>\n",
              "      <td>0</td>\n",
              "      <td>0</td>\n",
              "      <td>0</td>\n",
              "      <td>0</td>\n",
              "      <td>0</td>\n",
              "      <td>1</td>\n",
              "      <td>0</td>\n",
              "    </tr>\n",
              "    <tr>\n",
              "      <th>1</th>\n",
              "      <td>458994</td>\n",
              "      <td>0.267606</td>\n",
              "      <td>0.571429</td>\n",
              "      <td>0.375</td>\n",
              "      <td>A</td>\n",
              "      <td>0</td>\n",
              "      <td>1</td>\n",
              "      <td>0</td>\n",
              "      <td>1</td>\n",
              "      <td>0</td>\n",
              "      <td>...</td>\n",
              "      <td>1</td>\n",
              "      <td>0</td>\n",
              "      <td>0</td>\n",
              "      <td>0</td>\n",
              "      <td>0</td>\n",
              "      <td>0</td>\n",
              "      <td>0</td>\n",
              "      <td>0</td>\n",
              "      <td>1</td>\n",
              "      <td>0</td>\n",
              "    </tr>\n",
              "    <tr>\n",
              "      <th>3</th>\n",
              "      <td>459000</td>\n",
              "      <td>0.577465</td>\n",
              "      <td>0.785714</td>\n",
              "      <td>0.125</td>\n",
              "      <td>C</td>\n",
              "      <td>0</td>\n",
              "      <td>1</td>\n",
              "      <td>0</td>\n",
              "      <td>1</td>\n",
              "      <td>0</td>\n",
              "      <td>...</td>\n",
              "      <td>0</td>\n",
              "      <td>1</td>\n",
              "      <td>0</td>\n",
              "      <td>0</td>\n",
              "      <td>0</td>\n",
              "      <td>0</td>\n",
              "      <td>0</td>\n",
              "      <td>0</td>\n",
              "      <td>1</td>\n",
              "      <td>0</td>\n",
              "    </tr>\n",
              "    <tr>\n",
              "      <th>5</th>\n",
              "      <td>459003</td>\n",
              "      <td>0.408451</td>\n",
              "      <td>0.000000</td>\n",
              "      <td>0.500</td>\n",
              "      <td>B</td>\n",
              "      <td>0</td>\n",
              "      <td>1</td>\n",
              "      <td>0</td>\n",
              "      <td>1</td>\n",
              "      <td>0</td>\n",
              "      <td>...</td>\n",
              "      <td>0</td>\n",
              "      <td>1</td>\n",
              "      <td>0</td>\n",
              "      <td>0</td>\n",
              "      <td>0</td>\n",
              "      <td>0</td>\n",
              "      <td>1</td>\n",
              "      <td>0</td>\n",
              "      <td>0</td>\n",
              "      <td>0</td>\n",
              "    </tr>\n",
              "    <tr>\n",
              "      <th>6</th>\n",
              "      <td>459005</td>\n",
              "      <td>0.605634</td>\n",
              "      <td>0.357143</td>\n",
              "      <td>0.250</td>\n",
              "      <td>A</td>\n",
              "      <td>0</td>\n",
              "      <td>1</td>\n",
              "      <td>0</td>\n",
              "      <td>1</td>\n",
              "      <td>0</td>\n",
              "      <td>...</td>\n",
              "      <td>0</td>\n",
              "      <td>0</td>\n",
              "      <td>1</td>\n",
              "      <td>0</td>\n",
              "      <td>0</td>\n",
              "      <td>0</td>\n",
              "      <td>0</td>\n",
              "      <td>0</td>\n",
              "      <td>1</td>\n",
              "      <td>0</td>\n",
              "    </tr>\n",
              "  </tbody>\n",
              "</table>\n",
              "<p>5 rows × 28 columns</p>\n",
              "</div>\n",
              "      <button class=\"colab-df-convert\" onclick=\"convertToInteractive('df-e62e7dc7-2adc-4a08-b57e-c2dd424458d1')\"\n",
              "              title=\"Convert this dataframe to an interactive table.\"\n",
              "              style=\"display:none;\">\n",
              "        \n",
              "  <svg xmlns=\"http://www.w3.org/2000/svg\" height=\"24px\"viewBox=\"0 0 24 24\"\n",
              "       width=\"24px\">\n",
              "    <path d=\"M0 0h24v24H0V0z\" fill=\"none\"/>\n",
              "    <path d=\"M18.56 5.44l.94 2.06.94-2.06 2.06-.94-2.06-.94-.94-2.06-.94 2.06-2.06.94zm-11 1L8.5 8.5l.94-2.06 2.06-.94-2.06-.94L8.5 2.5l-.94 2.06-2.06.94zm10 10l.94 2.06.94-2.06 2.06-.94-2.06-.94-.94-2.06-.94 2.06-2.06.94z\"/><path d=\"M17.41 7.96l-1.37-1.37c-.4-.4-.92-.59-1.43-.59-.52 0-1.04.2-1.43.59L10.3 9.45l-7.72 7.72c-.78.78-.78 2.05 0 2.83L4 21.41c.39.39.9.59 1.41.59.51 0 1.02-.2 1.41-.59l7.78-7.78 2.81-2.81c.8-.78.8-2.07 0-2.86zM5.41 20L4 18.59l7.72-7.72 1.47 1.35L5.41 20z\"/>\n",
              "  </svg>\n",
              "      </button>\n",
              "      \n",
              "  <style>\n",
              "    .colab-df-container {\n",
              "      display:flex;\n",
              "      flex-wrap:wrap;\n",
              "      gap: 12px;\n",
              "    }\n",
              "\n",
              "    .colab-df-convert {\n",
              "      background-color: #E8F0FE;\n",
              "      border: none;\n",
              "      border-radius: 50%;\n",
              "      cursor: pointer;\n",
              "      display: none;\n",
              "      fill: #1967D2;\n",
              "      height: 32px;\n",
              "      padding: 0 0 0 0;\n",
              "      width: 32px;\n",
              "    }\n",
              "\n",
              "    .colab-df-convert:hover {\n",
              "      background-color: #E2EBFA;\n",
              "      box-shadow: 0px 1px 2px rgba(60, 64, 67, 0.3), 0px 1px 3px 1px rgba(60, 64, 67, 0.15);\n",
              "      fill: #174EA6;\n",
              "    }\n",
              "\n",
              "    [theme=dark] .colab-df-convert {\n",
              "      background-color: #3B4455;\n",
              "      fill: #D2E3FC;\n",
              "    }\n",
              "\n",
              "    [theme=dark] .colab-df-convert:hover {\n",
              "      background-color: #434B5C;\n",
              "      box-shadow: 0px 1px 3px 1px rgba(0, 0, 0, 0.15);\n",
              "      filter: drop-shadow(0px 1px 2px rgba(0, 0, 0, 0.3));\n",
              "      fill: #FFFFFF;\n",
              "    }\n",
              "  </style>\n",
              "\n",
              "      <script>\n",
              "        const buttonEl =\n",
              "          document.querySelector('#df-e62e7dc7-2adc-4a08-b57e-c2dd424458d1 button.colab-df-convert');\n",
              "        buttonEl.style.display =\n",
              "          google.colab.kernel.accessAllowed ? 'block' : 'none';\n",
              "\n",
              "        async function convertToInteractive(key) {\n",
              "          const element = document.querySelector('#df-e62e7dc7-2adc-4a08-b57e-c2dd424458d1');\n",
              "          const dataTable =\n",
              "            await google.colab.kernel.invokeFunction('convertToInteractive',\n",
              "                                                     [key], {});\n",
              "          if (!dataTable) return;\n",
              "\n",
              "          const docLinkHtml = 'Like what you see? Visit the ' +\n",
              "            '<a target=\"_blank\" href=https://colab.research.google.com/notebooks/data_table.ipynb>data table notebook</a>'\n",
              "            + ' to learn more about interactive tables.';\n",
              "          element.innerHTML = '';\n",
              "          dataTable['output_type'] = 'display_data';\n",
              "          await google.colab.output.renderOutput(dataTable, element);\n",
              "          const docLink = document.createElement('div');\n",
              "          docLink.innerHTML = docLinkHtml;\n",
              "          element.appendChild(docLink);\n",
              "        }\n",
              "      </script>\n",
              "    </div>\n",
              "  </div>\n",
              "  "
            ]
          },
          "metadata": {},
          "execution_count": 103
        }
      ]
    }
  ]
}